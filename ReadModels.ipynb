{
 "cells": [
  {
   "cell_type": "code",
   "execution_count": 3,
   "id": "3243a589",
   "metadata": {},
   "outputs": [],
   "source": [
    "import joblib\n",
    "import nbimporter\n",
    "import numpy as np\n",
    "\n",
    "from data_notebooks  import Santander, may, Cat, Rain, heartDisease, spaceshipTitanic, starClassification\n",
    "from sklearn.metrics import accuracy_score"
   ]
  },
  {
   "cell_type": "code",
   "execution_count": 4,
   "id": "0ecf7472",
   "metadata": {},
   "outputs": [],
   "source": [
    "fileprefs =  [\"Rain\", \"Santander\", \"Cat\", \"May\", \"heartDisease\", \"spaceshipTitanic\", \"starClassification\"] \n",
    "\n",
    "models = {i: {} for i in fileprefs}\n",
    "\n",
    "# Read models\n",
    "for filepref in fileprefs:\n",
    "#     for suff in [\"co2\", \"rf\"]:\n",
    "    for suff in [\"rf\"]:\n",
    "        with open(\"Models/\" + filepref + \"_\" + suff + \".joblib\", 'rb') as file: \n",
    "            models[filepref][suff] = joblib.load(file) "
   ]
  },
  {
   "cell_type": "code",
   "execution_count": 5,
   "id": "78dba67f",
   "metadata": {},
   "outputs": [
    {
     "name": "stdout",
     "output_type": "stream",
     "text": [
      "<bound method BaseEstimator.get_params of RandomForestClassifier(max_depth=50, min_samples_leaf=10, min_samples_split=40,\n",
      "                       n_jobs=-1, random_state=0)>\n",
      "<bound method BaseEstimator.get_params of RandomForestClassifier(max_depth=5, min_samples_leaf=10, min_samples_split=40,\n",
      "                       n_jobs=-1, random_state=0)>\n",
      "<bound method BaseEstimator.get_params of RandomForestClassifier(max_depth=50, min_samples_leaf=10, min_samples_split=40,\n",
      "                       n_jobs=-1, random_state=0)>\n",
      "<bound method BaseEstimator.get_params of RandomForestClassifier(max_depth=50, min_samples_leaf=10, min_samples_split=40,\n",
      "                       n_jobs=-1, random_state=0)>\n",
      "<bound method BaseEstimator.get_params of RandomForestClassifier(max_depth=50, min_samples_leaf=10, min_samples_split=40,\n",
      "                       n_jobs=-1, random_state=0)>\n",
      "<bound method BaseEstimator.get_params of RandomForestClassifier(max_depth=20, min_samples_leaf=10, min_samples_split=40,\n",
      "                       n_jobs=-1, random_state=0)>\n",
      "<bound method BaseEstimator.get_params of RandomForestClassifier(max_depth=20, min_samples_leaf=10, min_samples_split=40,\n",
      "                       n_jobs=-1, random_state=0)>\n"
     ]
    }
   ],
   "source": [
    "for filepref in fileprefs:\n",
    "    print(models[filepref][\"rf\"].best_estimator_.get_params)"
   ]
  },
  {
   "cell_type": "code",
   "execution_count": 20,
   "id": "576295f7",
   "metadata": {},
   "outputs": [],
   "source": [
    "data = {i: [] for i in fileprefs}\n",
    "\n",
    "# Read test data\n",
    "for filepref, notebook in zip(fileprefs, [Rain, Santander, Cat, may, heartDisease, spaceshipTitanic, starClassification]):\n",
    "    data[filepref] = notebook.DatasetName.load().prepare()[2:]"
   ]
  },
  {
   "cell_type": "code",
   "execution_count": 21,
   "id": "7d364136",
   "metadata": {},
   "outputs": [
    {
     "name": "stdout",
     "output_type": "stream",
     "text": [
      "Rain:   co2: score 0.8543471286493424\n",
      "Wall time: 36.4 s\n",
      "Rain:   rf: score 0.8519180530730097\n",
      "Wall time: 228 ms\n",
      "Santander:   co2: score 0.960185915987021\n",
      "Wall time: 5.94 s\n",
      "Santander:   rf: score 0.9604490046478997\n",
      "Wall time: 90.5 ms\n",
      "Cat:   co2: score 0.7156111111111111\n",
      "Wall time: 1min 58s\n",
      "Cat:   rf: score 0.7299333333333333\n",
      "Wall time: 550 ms\n",
      "May:   co2: score 0.745225925925926\n",
      "Wall time: 11min 36s\n",
      "May:   rf: score 0.7705333333333333\n",
      "Wall time: 1.88 s\n",
      "heartDisease:   co2: score 0.905813097866078\n",
      "Wall time: 23.8 s\n",
      "heartDisease:   rf: score 0.9072847682119205\n",
      "Wall time: 275 ms\n",
      "spaceshipTitanic:   co2: score 0.7680214723926381\n",
      "Wall time: 2.55 s\n",
      "spaceshipTitanic:   rf: score 0.7795245398773006\n",
      "Wall time: 33.7 ms\n",
      "starClassification:   co2: score 0.9671883230531342\n",
      "Wall time: 1min 34s\n",
      "starClassification:   rf: score 0.9805780700412907\n",
      "Wall time: 174 ms\n"
     ]
    }
   ],
   "source": [
    "for filepref in fileprefs:\n",
    "    for model in [\"co2\", \"rf\"]:\n",
    "        %time print(f\"{filepref}:   {model}: score {models[filepref][model].score(*data[filepref])}\")"
   ]
  },
  {
   "cell_type": "code",
   "execution_count": 22,
   "id": "4174f33a",
   "metadata": {},
   "outputs": [
    {
     "name": "stdout",
     "output_type": "stream",
     "text": [
      "<bound method BaseEstimator.get_params of CO2_forest(max_depth=40, max_features='auto', max_iter=1000, max_samples=0.7,\n",
      "           min_samples_split=0.0001, n_estimators=40, n_jobs=-1,\n",
      "           random_state=100, splitter='best')>\n",
      "<bound method BaseEstimator.get_params of CO2_forest(max_depth=40, max_features='auto', max_iter=1000, n_estimators=20,\n",
      "           n_jobs=-1, random_state=100, splitter='best')>\n",
      "<bound method BaseEstimator.get_params of CO2_forest(max_depth=40, max_features='auto', max_iter=1000,\n",
      "           min_samples_split=50, n_jobs=-1, random_state=100, splitter='best',\n",
      "           tol=0.0001)>\n",
      "<bound method BaseEstimator.get_params of CO2_forest(max_depth=50, max_features='auto', max_iter=1000,\n",
      "           min_samples_split=10, n_jobs=-1, random_state=100, splitter='best',\n",
      "           tol=0.0001)>\n",
      "<bound method BaseEstimator.get_params of CO2_forest(max_depth=30, max_features='auto', max_iter=1200,\n",
      "           min_samples_split=1e-05, n_jobs=-1, random_state=100,\n",
      "           splitter='best', tol=1e-05)>\n",
      "<bound method BaseEstimator.get_params of CO2_forest(max_depth=30, max_features='auto', max_iter=1000,\n",
      "           min_samples_split=10, n_jobs=-1, random_state=100, splitter='best',\n",
      "           tol=1e-05)>\n",
      "<bound method BaseEstimator.get_params of CO2_forest(max_depth=30, max_features='auto', max_iter=1300,\n",
      "           min_samples_split=5, n_jobs=-1, random_state=100, splitter='best',\n",
      "           tol=1e-05)>\n"
     ]
    }
   ],
   "source": [
    "for filepref in fileprefs:\n",
    "    print(models[filepref][\"co2\"].get_params)"
   ]
  },
  {
   "cell_type": "code",
   "execution_count": 27,
   "id": "e38c158e",
   "metadata": {},
   "outputs": [],
   "source": [
    "impurities_co2 = {i: {} for i in fileprefs}\n",
    "\n",
    "for model in fileprefs:\n",
    "    strees = models[model][\"co2\"].estimators_\n",
    "    for tree in strees:\n",
    "        stack = [(tree.tree_, 0)]\n",
    "        while stack:\n",
    "            node, depth = stack[0]\n",
    "            stack.pop(0)\n",
    "            if not node.is_leaf():\n",
    "                left = node.get_down()\n",
    "                right = node.get_up()\n",
    "                left_size = len(left._y)\n",
    "                right_size = len(right._y)\n",
    "                sum_size = left_size + right_size\n",
    "                left_size /= sum_size\n",
    "                right_size /= sum_size\n",
    "                stack.append((left, depth+1))\n",
    "                stack.append((right, depth+1))\n",
    "                new_impurity = node.get_impurity() - left_size * left.get_impurity() - right_size * right.get_impurity()\n",
    "                if depth not in impurities_co2[model].keys():\n",
    "                    impurities_co2[model][depth] = [new_impurity]\n",
    "                else:\n",
    "                    impurities_co2[model][depth].append(new_impurity)\n",
    "            else:\n",
    "                if depth not in impurities_co2[model].keys():\n",
    "                    impurities_co2[model][depth] = [node.get_impurity()]\n",
    "                else:\n",
    "                    impurities_co2[model][depth].append(node.get_impurity())"
   ]
  },
  {
   "cell_type": "code",
   "execution_count": 45,
   "id": "f0717b78",
   "metadata": {},
   "outputs": [],
   "source": [
    "impurities_rf = {i: {} for i in fileprefs}\n",
    "\n",
    "\n",
    "for model in fileprefs:\n",
    "    for i, estimator in enumerate(models[model][\"rf\"].best_estimator_.estimators_):\n",
    "        impurities_rf[model][i] = estimator.tree_.impurity"
   ]
  },
  {
   "cell_type": "code",
   "execution_count": 29,
   "id": "803ed781",
   "metadata": {},
   "outputs": [],
   "source": [
    "impurities_co2_means = {name: {key: np.mean(value) for key, value in impurities_co2[name].items() if value} for name in fileprefs}"
   ]
  },
  {
   "cell_type": "code",
   "execution_count": 30,
   "id": "ebeb2511",
   "metadata": {},
   "outputs": [
    {
     "name": "stdout",
     "output_type": "stream",
     "text": [
      "Mean: 0.04937699984564938\n"
     ]
    },
    {
     "data": {
      "text/plain": [
       "{0: 0.028809363376542753,\n",
       " 1: 0.025137604005293836,\n",
       " 2: 0.019527705523150175,\n",
       " 3: 0.013204179022203518,\n",
       " 4: 0.012497340210061592,\n",
       " 5: 0.014102297492712123,\n",
       " 6: 0.023997039904220488,\n",
       " 7: 0.058353661196561935,\n",
       " 8: 0.09880788563909348,\n",
       " 9: 0.11712726237664162,\n",
       " 10: 0.1058080897118589,\n",
       " 11: 0.0824601187071726,\n",
       " 12: 0.06341997289589958,\n",
       " 13: 0.05488222106707897,\n",
       " 14: 0.04826482965469394,\n",
       " 15: 0.04724625013856893,\n",
       " 16: 0.04563707332806832,\n",
       " 17: 0.04144070881634605,\n",
       " 18: 0.0461209699973494,\n",
       " 19: 0.03550529050800487,\n",
       " 20: 0.07154743881788707,\n",
       " 21: 0.032396694214876044}"
      ]
     },
     "execution_count": 30,
     "metadata": {},
     "output_type": "execute_result"
    }
   ],
   "source": [
    "print(f\"Mean: {np.mean(list(impurities_co2_means['Rain'].values()))}\")\n",
    "impurities_co2_means['Rain']"
   ]
  },
  {
   "cell_type": "code",
   "execution_count": 31,
   "id": "91a8824f",
   "metadata": {},
   "outputs": [],
   "source": [
    "impurities_rf_tree_means = {name: {key: np.mean(value) for key, value in impurities_rf[name].items()} for name in fileprefs}"
   ]
  },
  {
   "cell_type": "code",
   "execution_count": 32,
   "id": "7bb386c2",
   "metadata": {},
   "outputs": [
    {
     "name": "stdout",
     "output_type": "stream",
     "text": [
      "0.24549365329054734 0.003362559039495975\n"
     ]
    }
   ],
   "source": [
    "mean_impurities_rf = np.array(list(impurities_rf_tree_means[\"Rain\"].values()))\n",
    "print(mean_impurities_rf.mean(), mean_impurities_rf.std())"
   ]
  },
  {
   "cell_type": "code",
   "execution_count": null,
   "id": "354cefa5",
   "metadata": {},
   "outputs": [],
   "source": []
  },
  {
   "cell_type": "code",
   "execution_count": 33,
   "id": "7a98da95",
   "metadata": {},
   "outputs": [
    {
     "name": "stdout",
     "output_type": "stream",
     "text": [
      "Mean: 0.04519160162394691\n"
     ]
    },
    {
     "data": {
      "text/plain": [
       "{0: 0.0008066756873748181,\n",
       " 1: 0.0006771384674254491,\n",
       " 2: 0.0019490515609000218,\n",
       " 3: 0.01715842925395591,\n",
       " 4: 0.02790871177474608,\n",
       " 5: 0.03510620889615751,\n",
       " 6: 0.04039916181606644,\n",
       " 7: 0.05296825932636962,\n",
       " 8: 0.044672123302931514,\n",
       " 9: 0.047049572846522475,\n",
       " 10: 0.05423379462168863,\n",
       " 11: 0.0507264180962416,\n",
       " 12: 0.05861760358883811,\n",
       " 13: 0.06345767806644559,\n",
       " 14: 0.06632234419174782,\n",
       " 15: 0.0592656632236473,\n",
       " 16: 0.06742052830240897,\n",
       " 17: 0.055497152442129064,\n",
       " 18: 0.051213311556625,\n",
       " 19: 0.06007923270882167,\n",
       " 20: 0.0537737067817177,\n",
       " 21: 0.049160468005351864,\n",
       " 22: 0.051256642930968266,\n",
       " 23: 0.06138443208876527,\n",
       " 24: 0.03734146843593688,\n",
       " 25: 0.04997059029912551,\n",
       " 26: 0.06149787640314556,\n",
       " 27: 0.059644960694149075,\n",
       " 28: 0.03579080925271691,\n",
       " 29: 0.04175411180436713,\n",
       " 30: 0.04061592213535757,\n",
       " 31: 0.027683295540438396,\n",
       " 32: 0.1111111111111111,\n",
       " 33: 0.0}"
      ]
     },
     "execution_count": 33,
     "metadata": {},
     "output_type": "execute_result"
    }
   ],
   "source": [
    "print(f\"Mean: {np.mean(list(impurities_co2_means['Santander'].values()))}\")\n",
    "impurities_co2_means['Santander']"
   ]
  },
  {
   "cell_type": "code",
   "execution_count": 34,
   "id": "e77fee63",
   "metadata": {},
   "outputs": [
    {
     "name": "stdout",
     "output_type": "stream",
     "text": [
      "0.12865797171007243 0.023748464578711232\n"
     ]
    }
   ],
   "source": [
    "mean_impurities_rf = np.array(list(impurities_rf_tree_means[\"Santander\"].values()))\n",
    "print(mean_impurities_rf.mean(), mean_impurities_rf.std())"
   ]
  },
  {
   "cell_type": "code",
   "execution_count": null,
   "id": "09a6b0f0",
   "metadata": {},
   "outputs": [],
   "source": []
  },
  {
   "cell_type": "code",
   "execution_count": null,
   "id": "b24b5492",
   "metadata": {},
   "outputs": [],
   "source": []
  },
  {
   "cell_type": "code",
   "execution_count": 35,
   "id": "565349af",
   "metadata": {},
   "outputs": [
    {
     "name": "stdout",
     "output_type": "stream",
     "text": [
      "Mean: 0.1735028482786607\n"
     ]
    },
    {
     "data": {
      "text/plain": [
       "{0: 0.023111213576424375,\n",
       " 1: 0.029565085570200433,\n",
       " 2: 0.0303867828454832,\n",
       " 3: 0.0216231952940741,\n",
       " 4: 0.02987800512874652,\n",
       " 5: 0.04040515730676241,\n",
       " 6: 0.0613674918938844,\n",
       " 7: 0.11045805471795624,\n",
       " 8: 0.12435487872323385,\n",
       " 9: 0.1387397872260572,\n",
       " 10: 0.1762658212606883,\n",
       " 11: 0.22329189488826204,\n",
       " 12: 0.25709714762097774,\n",
       " 13: 0.2882338332829986,\n",
       " 14: 0.29923525626316755,\n",
       " 15: 0.3082348168201295,\n",
       " 16: 0.3252996113157437,\n",
       " 17: 0.34751489773925553,\n",
       " 18: 0.2885036654903696,\n",
       " 19: 0.346490368608799}"
      ]
     },
     "execution_count": 35,
     "metadata": {},
     "output_type": "execute_result"
    }
   ],
   "source": [
    "print(f\"Mean: {np.mean(list(impurities_co2_means['Cat'].values()))}\")\n",
    "impurities_co2_means['Cat']"
   ]
  },
  {
   "cell_type": "code",
   "execution_count": 36,
   "id": "a2dec8ee",
   "metadata": {},
   "outputs": [
    {
     "name": "stdout",
     "output_type": "stream",
     "text": [
      "0.3245430032646801 0.001147726611373176\n"
     ]
    }
   ],
   "source": [
    "mean_impurities_rf = np.array(list(impurities_rf_tree_means[\"Cat\"].values()))\n",
    "print(mean_impurities_rf.mean(), mean_impurities_rf.std())"
   ]
  },
  {
   "cell_type": "code",
   "execution_count": null,
   "id": "e2fbf37f",
   "metadata": {},
   "outputs": [],
   "source": []
  },
  {
   "cell_type": "code",
   "execution_count": null,
   "id": "5cc2291d",
   "metadata": {},
   "outputs": [],
   "source": []
  },
  {
   "cell_type": "code",
   "execution_count": 37,
   "id": "514dd219",
   "metadata": {},
   "outputs": [
    {
     "name": "stdout",
     "output_type": "stream",
     "text": [
      "Mean: 0.09065221885235493\n"
     ]
    },
    {
     "data": {
      "text/plain": [
       "{0: 0.0019711726979558366,\n",
       " 1: 0.0031703689448091352,\n",
       " 2: 0.009759289387940677,\n",
       " 3: 0.017864054598794584,\n",
       " 4: 0.02399508212242724,\n",
       " 5: 0.02935383378357131,\n",
       " 6: 0.04477203335656807,\n",
       " 7: 0.06301703098286267,\n",
       " 8: 0.07916582544061143,\n",
       " 9: 0.08995689536853388,\n",
       " 10: 0.10362734610614155,\n",
       " 11: 0.11434373948267416,\n",
       " 12: 0.12241320532982156,\n",
       " 13: 0.12737819422430247,\n",
       " 14: 0.13167854666150525,\n",
       " 15: 0.13363938906016465,\n",
       " 16: 0.12909426950315883,\n",
       " 17: 0.12975996776342924,\n",
       " 18: 0.12314575293967524,\n",
       " 19: 0.1213876662651995,\n",
       " 20: 0.11739583987470745,\n",
       " 21: 0.11634330975364855,\n",
       " 22: 0.11004971562410545,\n",
       " 23: 0.10947714596635687,\n",
       " 24: 0.09792254798296506,\n",
       " 25: 0.10007448354162705,\n",
       " 26: 0.09662331890870883,\n",
       " 27: 0.09337055989934018,\n",
       " 28: 0.09541803266146241,\n",
       " 29: 0.09244583879380427,\n",
       " 30: 0.11456248621114945,\n",
       " 31: 0.10130342884668174,\n",
       " 32: 0.0883780608836981,\n",
       " 33: 0.12485608030726669,\n",
       " 34: 0.06749261459774696,\n",
       " 35: 0.13295209761753618,\n",
       " 36: 0.10347880165200551,\n",
       " 37: 0.12261262187449734,\n",
       " 38: 0.07239366063229702,\n",
       " 39: 0.06944444444444442}"
      ]
     },
     "execution_count": 37,
     "metadata": {},
     "output_type": "execute_result"
    }
   ],
   "source": [
    "print(f\"Mean: {np.mean(list(impurities_co2_means['May'].values()))}\")\n",
    "impurities_co2_means['May']"
   ]
  },
  {
   "cell_type": "code",
   "execution_count": 38,
   "id": "557c2692",
   "metadata": {},
   "outputs": [
    {
     "name": "stdout",
     "output_type": "stream",
     "text": [
      "0.32899034042583664 0.0022026921544092064\n"
     ]
    }
   ],
   "source": [
    "mean_impurities_rf = np.array(list(impurities_rf_tree_means[\"May\"].values()))\n",
    "print(mean_impurities_rf.mean(), mean_impurities_rf.std())"
   ]
  },
  {
   "cell_type": "code",
   "execution_count": null,
   "id": "82b4e9ba",
   "metadata": {},
   "outputs": [],
   "source": []
  },
  {
   "cell_type": "code",
   "execution_count": null,
   "id": "43e0640d",
   "metadata": {},
   "outputs": [],
   "source": []
  },
  {
   "cell_type": "code",
   "execution_count": null,
   "id": "4e1fc53e",
   "metadata": {},
   "outputs": [],
   "source": []
  }
 ],
 "metadata": {
  "kernelspec": {
   "display_name": "Python 3 (ipykernel)",
   "language": "python",
   "name": "python3"
  },
  "language_info": {
   "codemirror_mode": {
    "name": "ipython",
    "version": 3
   },
   "file_extension": ".py",
   "mimetype": "text/x-python",
   "name": "python",
   "nbconvert_exporter": "python",
   "pygments_lexer": "ipython3",
   "version": "3.9.13"
  },
  "vscode": {
   "interpreter": {
    "hash": "ad2bdc8ecc057115af97d19610ffacc2b4e99fae6737bb82f5d7fb13d2f2c186"
   }
  }
 },
 "nbformat": 4,
 "nbformat_minor": 5
}
