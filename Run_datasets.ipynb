{
 "cells": [
  {
   "cell_type": "code",
   "execution_count": 1,
   "id": "aLHL1m2jjmM0",
   "metadata": {
    "colab": {
     "base_uri": "https://localhost:8080/"
    },
    "id": "aLHL1m2jjmM0",
    "outputId": "276f4cd2-7d42-4684-cffe-ece7e6fc9a4b"
   },
   "outputs": [
    {
     "name": "stdout",
     "output_type": "stream",
     "text": [
      "Defaulting to user installation because normal site-packages is not writeable\n",
      "Requirement already satisfied: nbimporter in c:\\users\\user\\appdata\\roaming\\python\\python39\\site-packages (0.3.4)\n",
      "Defaulting to user installation because normal site-packages is not writeable\n",
      "Requirement already satisfied: stree in c:\\users\\user\\appdata\\roaming\\python\\python39\\site-packages (1.3.0)\n",
      "Requirement already satisfied: scikit-learn>0.24 in c:\\programdata\\anaconda3\\lib\\site-packages (from stree) (1.0.2)\n",
      "Requirement already satisfied: mufs in c:\\users\\user\\appdata\\roaming\\python\\python39\\site-packages (from stree) (0.1.3)\n",
      "Requirement already satisfied: joblib>=0.11 in c:\\users\\user\\appdata\\roaming\\python\\python39\\site-packages (from scikit-learn>0.24->stree) (1.2.0)\n",
      "Requirement already satisfied: scipy>=1.1.0 in c:\\programdata\\anaconda3\\lib\\site-packages (from scikit-learn>0.24->stree) (1.9.1)\n",
      "Requirement already satisfied: numpy>=1.14.6 in c:\\users\\user\\appdata\\roaming\\python\\python39\\site-packages (from scikit-learn>0.24->stree) (1.21.4)\n",
      "Requirement already satisfied: threadpoolctl>=2.0.0 in c:\\programdata\\anaconda3\\lib\\site-packages (from scikit-learn>0.24->stree) (2.2.0)\n"
     ]
    }
   ],
   "source": [
    "! pip install nbimporter\n",
    "! pip install stree"
   ]
  },
  {
   "cell_type": "code",
   "execution_count": 2,
   "id": "4cb0be10",
   "metadata": {
    "id": "4cb0be10"
   },
   "outputs": [],
   "source": [
    "import nbimporter\n",
    "import time\n",
    "import joblib\n",
    "\n",
    "from sklearn.model_selection import GridSearchCV, StratifiedKFold\n",
    "from sklearn.ensemble import RandomForestClassifier, AdaBoostClassifier\n",
    "from sklearn.metrics import accuracy_score\n",
    "from Package import co2_forest\n",
    "\n",
    "# import your notebook with your datasets"
   ]
  },
  {
   "cell_type": "code",
   "execution_count": 3,
   "id": "6584a264",
   "metadata": {
    "id": "6584a264"
   },
   "outputs": [],
   "source": [
    "def Run_RF(data, name, param_grid={}):\n",
    "    \"\"\"Call Grid Search with RandomForestClassifier: return accuracy score and prints time\"\"\"\n",
    "    x_train, y_train, x_test, y_test = data \n",
    "    if param_grid:\n",
    "        rf = GridSearchCV(RandomForestClassifier(random_state=0, n_jobs=-1, max_depth=30), \n",
    "                                param_grid, \n",
    "                                scoring=\"accuracy\",\n",
    "                                n_jobs=-1,\n",
    "                                cv=StratifiedKFold(n_splits=3, random_state=0, shuffle=True))\n",
    "    else:\n",
    "        rf = RandomForestClassifier(random_state=0, n_jobs=-1)\n",
    "    start = time.time()\n",
    "    rf.fit(x_train, y_train)\n",
    "    end = time.time()\n",
    "    y_pred = rf.predict(x_test)\n",
    "    joblib.dump(rf, \"Models/\" + name + \"_rf.joblib\")\n",
    "    return accuracy_score(y_test, y_pred), end - start\n",
    "\n",
    "def Run_CO2_forest(data, name, params_co2, param_grid={}):\n",
    "    \"\"\"Call Grid Search with CO2_Forest: return accuracy score and time to fit\"\"\"\n",
    "    x_train, y_train, x_test, y_test = data \n",
    "    if param_grid:\n",
    "        co2_f = GridSearchCV(co2_forest.CO2_forest(n_jobs=-1, **params_co2),\n",
    "                                 param_grid,\n",
    "                                 scoring=\"accuracy\",\n",
    "                                 verbose=2,\n",
    "                                 n_jobs=-1,\n",
    "                                 cv=StratifiedKFold(n_splits=3, random_state=0, shuffle=True))\n",
    "    else:\n",
    "        co2_f = co2_forest.CO2_forest(n_jobs=-1, **params_co2)\n",
    "    start = time.time()\n",
    "    co2_f.fit(x_train, y_train)\n",
    "    end = time.time()\n",
    "    joblib.dump(co2_f, \"Models/\" + name + \"_co2.joblib\")\n",
    "    y_pred = co2_f.predict(x_test)\n",
    "    return accuracy_score(y_test, y_pred), end - start\n",
    "\n",
    "def Run_simple_adaboost(data, name):\n",
    "    \"\"\"Call Grid Search with CO2_Forest: return accuracy score and time to fit\"\"\"\n",
    "    x_train, y_train, x_test, y_test = data \n",
    "    clf = AdaBoostClassifier(n_estimators=1000)\n",
    "    start = time.time()\n",
    "    clf.fit(x_train, y_train)\n",
    "    end = time.time()\n",
    "    joblib.dump(clf, \"Models/\" + name + \"_ada.joblib\")\n",
    "    y_pred = clf.predict(x_test)\n",
    "    return accuracy_score(y_test, y_pred), end - start\n",
    "\n",
    "def BenchMarks(DatasetName, name, mode=\"all\", *, params_co2={}, param_grid_rf={}, param_grid_co2={}):\n",
    "    \"\"\"\n",
    "    Call rf or co2_forest and return accuracy scores\n",
    "    mode: could be all, rf, co2\n",
    "    \"\"\"\n",
    "    if mode not in [\"all\", \"rf\", \"co2\"]:\n",
    "        return None\n",
    "    data = DatasetName.load().prepare()\n",
    "    \n",
    "    result = {\"rf\": None, \"co2\": None}\n",
    "    \n",
    "    if mode in [\"all\", \"co2\"]:\n",
    "        print(\"Run co2\")\n",
    "        result[\"co2\"] = Run_CO2_forest(data, name, params_co2, param_grid_co2)\n",
    "    \n",
    "    \n",
    "    if mode in [\"all\", \"rf\"]:\n",
    "        print(\"Run rf\")\n",
    "        result[\"rf\"] = Run_RF(data, name, param_grid_rf)\n",
    "    \n",
    "    del data\n",
    "    return result"
   ]
  },
  {
   "cell_type": "code",
   "execution_count": 4,
   "id": "ccb72e1e",
   "metadata": {
    "id": "ccb72e1e"
   },
   "outputs": [],
   "source": [
    "def Test_dataset(name=None, dataSet=None, mode=\"all\", *, params_co2={\"n_estimators\": 30,\n",
    "                                                             \"max_features\": \"auto\",\n",
    "                                                             \"min_samples_split\": 1e-5,\n",
    "                                                             \"max_depth\": 30,\n",
    "                                                             \"max_samples\": .5,\n",
    "                                                             \"max_iter\": 1000}, \n",
    "                                                         param_grid_rf={\n",
    "                                                             'min_samples_split': [40, 70, 100]\n",
    "                                                         }, \n",
    "                                                         param_grid_co2={}):\n",
    "    print('-' * 30)\n",
    "    print(name)\n",
    "    print()\n",
    "    result = BenchMarks(dataSet.DatasetName, name, mode, params_co2=params_co2, \n",
    "                                                         param_grid_rf=param_grid_rf, \n",
    "                                                         param_grid_co2=param_grid_co2)\n",
    "    if mode in [\"all\", \"rf\"]:\n",
    "        print(\"RandomForest accuracy: \", result[\"rf\"][0],  \"  time: \", result[\"rf\"][1])\n",
    "    if mode in [\"all\", \"co2\"]:\n",
    "        print(\"CO2_Forest accuracy: \", result[\"co2\"][0], \"  time: \", result[\"co2\"][1])\n",
    "    print()\n",
    "    print('-' * 30)\n",
    "    print()"
   ]
  },
  {
   "cell_type": "code",
   "execution_count": 5,
   "id": "e5ee327d",
   "metadata": {
    "id": "e5ee327d"
   },
   "outputs": [],
   "source": [
    "# Example: you have notebook: My_nodebook and dataset with som name like weather\n",
    "# you can call like this: \n",
    "# Test_dataset(\"weather\", My_notebook)\n",
    "# after running in your command panel you will see accuracy_score and fit time.\n",
    "# also in your repository you will see joblib files with rf and co2 models."
   ]
  },
  {
   "cell_type": "code",
   "execution_count": 6,
   "id": "e38fba85",
   "metadata": {},
   "outputs": [],
   "source": [
    "from data_notebooks  import Santander, may, cat, Rain, heartDisease, spaceshipTitanic, starClassification\n",
    "\n",
    "notebooks = [Santander, may, cat, Rain, heartDisease, spaceshipTitanic, starClassification]\n",
    "names = [\"Santander\", \"May\", \"Cat\", \"Rain\", \"heartDisease\", \"spaceshipTitanic\", \"starClassification\"]\n",
    "\n",
    "def Test_all(mode=\"all\"):\n",
    "    for name, notebook in zip(names, notebooks):\n",
    "        Test_dataset(name, notebook, mode)"
   ]
  }
 ],
 "metadata": {
  "colab": {
   "history_visible": true,
   "provenance": []
  },
  "kernelspec": {
   "display_name": "Python 3 (ipykernel)",
   "language": "python",
   "name": "python3"
  },
  "language_info": {
   "codemirror_mode": {
    "name": "ipython",
    "version": 3
   },
   "file_extension": ".py",
   "mimetype": "text/x-python",
   "name": "python",
   "nbconvert_exporter": "python",
   "pygments_lexer": "ipython3",
   "version": "3.9.13"
  },
  "vscode": {
   "interpreter": {
    "hash": "3b7e9cb8e453d6cda0fe8c8dd13f891a1f09162f0e7c66ffeae7751a7aecf00d"
   }
  }
 },
 "nbformat": 4,
 "nbformat_minor": 5
}
