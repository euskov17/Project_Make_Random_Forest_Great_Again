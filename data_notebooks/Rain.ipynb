{
 "cells": [
  {
   "cell_type": "code",
   "execution_count": 1,
   "metadata": {
    "execution": {
     "iopub.execute_input": "2022-11-30T15:06:43.793067Z",
     "iopub.status.busy": "2022-11-30T15:06:43.792716Z",
     "iopub.status.idle": "2022-11-30T15:06:43.819519Z",
     "shell.execute_reply": "2022-11-30T15:06:43.818339Z",
     "shell.execute_reply.started": "2022-11-30T15:06:43.793036Z"
    }
   },
   "outputs": [],
   "source": [
    "import numpy as np\n",
    "import pandas as pd\n",
    "import seaborn as sn\n",
    "import category_encoders as ce\n",
    "from typing import Tuple\n",
    "import time\n",
    "\n",
    "from sklearn.model_selection import train_test_split, GridSearchCV, StratifiedKFold\n",
    "from sklearn.preprocessing import LabelEncoder\n",
    "from sklearn.ensemble import RandomForestClassifier\n",
    "from sklearn.utils import resample\n",
    "from sklearn.experimental import enable_iterative_imputer\n",
    "from sklearn.impute import IterativeImputer\n",
    "from sklearn.metrics import accuracy_score, f1_score, confusion_matrix\n",
    "from feature_engine.selection import (\n",
    "    DropDuplicateFeatures,\n",
    "    DropConstantFeatures,\n",
    ")"
   ]
  },
  {
   "cell_type": "markdown",
   "metadata": {},
   "source": [
    "Примерно так будет выглядеть каждый из ваших датасетов для пользователя. Датасеты будет удобно объединять в классы для удобного использования"
   ]
  },
  {
   "cell_type": "code",
   "execution_count": 4,
   "metadata": {
    "execution": {
     "iopub.execute_input": "2022-11-30T15:06:43.821447Z",
     "iopub.status.busy": "2022-11-30T15:06:43.821121Z",
     "iopub.status.idle": "2022-11-30T15:06:43.839756Z",
     "shell.execute_reply": "2022-11-30T15:06:43.838487Z",
     "shell.execute_reply.started": "2022-11-30T15:06:43.821420Z"
    }
   },
   "outputs": [],
   "source": [
    "class DatasetName:\n",
    "    train_data: pd.DataFrame\n",
    "    test_data: pd.DataFrame\n",
    "    \n",
    "    # do not call without fabric method\n",
    "    def __init__(self, train_data: pd.DataFrame, test_data: pd.DataFrame):\n",
    "        self.train_data = train_data\n",
    "        self.test_data = test_data\n",
    "\n",
    "    @classmethod\n",
    "    def load(cls) :\n",
    "        \"\"\"\n",
    "        loads datasets with given name\n",
    "        :return: (train_dataframe, test_dataframe)\n",
    "        \"\"\"\n",
    "        train = pd.read_csv(\"data/rain_train.csv\")\n",
    "        return DatasetName(train, None)\n",
    "\n",
    "    def prepare(self) -> Tuple[np.ndarray, np.ndarray, np.ndarray, np.ndarray]:\n",
    "        \"\"\"\n",
    "        does preprocessing with dataset, feature generation, etc.\n",
    "        :return: (train_x, train_y, test_x, test_y)\n",
    "        \"\"\"\n",
    "        TARGET = 'RainTomorrow'\n",
    "        y = self.train_data[TARGET]\n",
    "        y = y.apply(lambda x: 1 if x == 'Yes' else 0)\n",
    "        self.train_data.drop(labels=TARGET, axis=1, inplace=True)\n",
    "        x_train, x_test, y_train, y_test = train_test_split(self.train_data, y, test_size=0.3, \n",
    "                                                            random_state=1729,\n",
    "                                                            stratify=y)\n",
    "        \n",
    "        categorical = [col for col in x_train.columns if x_train[col].dtypes == 'O']\n",
    "        numerical = [col for col in x_train.columns if x_train[col].dtypes != 'O']\n",
    "        \n",
    "        \n",
    "        # impute missing values in X_train and X_test with respective column median in X_train\n",
    "        for df1 in [x_train, x_test]:\n",
    "            for col in numerical:\n",
    "                col_median = x_train[col].median()\n",
    "                df1[col].fillna(col_median, inplace=True)    \n",
    "\n",
    "        \n",
    "        # impute missing categorical variables with most frequent value\n",
    "        for df2 in [x_train, x_test]:\n",
    "            df2['WindGustDir'].fillna(x_train['WindGustDir'].mode()[0], inplace=True)\n",
    "            df2['WindDir9am'].fillna(x_train['WindDir9am'].mode()[0], inplace=True)\n",
    "            df2['WindDir3pm'].fillna(x_train['WindDir3pm'].mode()[0], inplace=True)\n",
    "            df2['RainToday'].fillna(x_train['RainToday'].mode()[0], inplace=True)\n",
    "        \n",
    "        # engineering outliers in numerical variables\n",
    "        def max_value(df3, variable, top):\n",
    "            return np.where(df3[variable]>top, top, df3[variable])\n",
    "\n",
    "        for df3 in [x_train, x_test]:\n",
    "            df3['Rainfall'] = max_value(df3, 'Rainfall', 3.2)\n",
    "            df3['Evaporation'] = max_value(df3, 'Evaporation', 21.8)\n",
    "            df3['WindSpeed9am'] = max_value(df3, 'WindSpeed9am', 55)\n",
    "            df3['WindSpeed3pm'] = max_value(df3, 'WindSpeed3pm', 57)\n",
    "        \n",
    "        # encode RainToday variable\n",
    "        encoder = ce.BinaryEncoder(cols=['RainToday'])\n",
    "        x_train = encoder.fit_transform(x_train)\n",
    "        x_test = encoder.transform(x_test)\n",
    "        \n",
    "        \n",
    "        x_train = pd.concat([x_train[numerical], x_train[['RainToday_0', 'RainToday_1']],\n",
    "                     pd.get_dummies(x_train.Location), \n",
    "                     pd.get_dummies(x_train.WindGustDir),\n",
    "                     pd.get_dummies(x_train.WindDir9am),\n",
    "                     pd.get_dummies(x_train.WindDir3pm)], axis=1)\n",
    "        \n",
    "        x_test = pd.concat([x_test[numerical], x_test[['RainToday_0', 'RainToday_1']],\n",
    "                     pd.get_dummies(x_test.Location), \n",
    "                     pd.get_dummies(x_test.WindGustDir),\n",
    "                     pd.get_dummies(x_test.WindDir9am),\n",
    "                     pd.get_dummies(x_test.WindDir3pm)], axis=1)\n",
    "        \n",
    "        return x_train, y_train, x_test, y_test"
   ]
  },
  {
   "cell_type": "markdown",
   "metadata": {},
   "source": [
    "Вот пример того, как может выглядеть использование подобного интерфейса"
   ]
  },
  {
   "cell_type": "code",
   "execution_count": 3,
   "metadata": {
    "execution": {
     "iopub.execute_input": "2022-11-30T15:06:43.842687Z",
     "iopub.status.busy": "2022-11-30T15:06:43.842380Z",
     "iopub.status.idle": "2022-11-30T15:06:45.074437Z",
     "shell.execute_reply": "2022-11-30T15:06:45.072864Z",
     "shell.execute_reply.started": "2022-11-30T15:06:43.842659Z"
    }
   },
   "outputs": [],
   "source": [
    "x_train, y_train, x_test, y_test = DatasetName.load().prepare()"
   ]
  }
 ],
 "metadata": {
  "kernelspec": {
   "display_name": "Python 3 (ipykernel)",
   "language": "python",
   "name": "python3"
  },
  "language_info": {
   "codemirror_mode": {
    "name": "ipython",
    "version": 3
   },
   "file_extension": ".py",
   "mimetype": "text/x-python",
   "name": "python",
   "nbconvert_exporter": "python",
   "pygments_lexer": "ipython3",
   "version": "3.9.13"
  }
 },
 "nbformat": 4,
 "nbformat_minor": 4
}
