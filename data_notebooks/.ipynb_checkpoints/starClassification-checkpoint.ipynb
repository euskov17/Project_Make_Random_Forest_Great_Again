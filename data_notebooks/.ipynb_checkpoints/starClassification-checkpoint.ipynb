{
 "cells": [
  {
   "cell_type": "code",
   "execution_count": null,
   "metadata": {
    "id": "vZJUZkkq5bQr"
   },
   "outputs": [],
   "source": [
    "import numpy as np\n",
    "import pandas as pd\n",
    "import csv\n",
    "import matplotlib.pyplot as plt\n",
    "import seaborn as sns\n",
    "from typing import Tuple"
   ]
  },
  {
   "cell_type": "code",
   "execution_count": null,
   "metadata": {
    "id": "zxdwKsOgV32g"
   },
   "outputs": [],
   "source": [
    "from sklearn.neighbors import LocalOutlierFactor\n",
    "from sklearn.model_selection import train_test_split,StratifiedKFold,GridSearchCV\n",
    "from imblearn.over_sampling import SMOTE\n",
    "\n",
    "class DatasetName:\n",
    "    train_data: pd.DataFrame\n",
    "    test_data: pd.DataFrame\n",
    "\n",
    "    # do not call without fabric method\n",
    "    def __init__(self, train_data: pd.DataFrame, test_data: pd.DataFrame):\n",
    "        self.train_data = train_data\n",
    "        self.test_data = test_data\n",
    "\n",
    "    @classmethod\n",
    "    def load(cls) :\n",
    "        \"\"\"\n",
    "        loads datasets with given name\n",
    "        :return: (train_dataframe, test_dataframe)\n",
    "        \"\"\"\n",
    "        df = pd.read_csv(\"data/star_classification_train.csv\")\n",
    "        return DatasetName(df, None)\n",
    "\n",
    "    def prepare(self) -> Tuple[np.ndarray, np.ndarray, np.ndarray, np.ndarray]:\n",
    "        \"\"\"\n",
    "        does preprocessing with dataset, feature generation, etc.\n",
    "        :return: (train_x, train_y, test_x, test_y)\n",
    "        \"\"\"\n",
    "        df = self.train_data\n",
    "\n",
    "        categorical_list = [\"class\"]\n",
    "        df_categoric = df.loc[:, categorical_list]\n",
    "        df[\"class\"]=[0 if i == \"GALAXY\" else 1 if i == \"STAR\" else 2 for i in df[\"class\"]]\n",
    "\n",
    "        \"\"\"\n",
    "        clf = LocalOutlierFactor()\n",
    "        y_pred = clf.fit_predict(df) \n",
    "        x_score = clf.negative_outlier_factor_\n",
    "\n",
    "        outlier_score = pd.DataFrame()\n",
    "        outlier_score[\"score\"] = x_score\n",
    "        threshold = np.quantile(x_score , .10)                                            \n",
    "        filtre = outlier_score[\"score\"] < threshold\n",
    "        outlier_index = outlier_score[filtre].index.tolist()\n",
    "\n",
    "        df.drop(outlier_index, inplace=True)\n",
    "        \"\"\"\n",
    "\n",
    "        df = df.drop(['obj_ID','alpha','delta','run_ID','rerun_ID','cam_col','field_ID','fiber_ID'], axis = 1)\n",
    "\n",
    "        x = df.drop(['class'], axis = 1)\n",
    "        y = df.loc[:,'class'].values\n",
    "\n",
    "        x, y = SMOTE(random_state=42).fit_resample(x, y)\n",
    "\n",
    "        train_x, test_x, train_y, test_y = train_test_split(x, y, test_size = 0.33,random_state=1729,\n",
    "                                                            stratify=y)\n",
    "\n",
    "        return train_x, train_y, test_x, test_y"
   ]
  },
  {
   "cell_type": "code",
   "execution_count": null,
   "metadata": {
    "colab": {
     "base_uri": "https://localhost:8080/"
    },
    "executionInfo": {
     "elapsed": 6486,
     "status": "ok",
     "timestamp": 1669727414578,
     "user": {
      "displayName": "Иван Назаров",
      "userId": "05331567444237134885"
     },
     "user_tz": -180
    },
    "id": "hcAFujcUY5Fy",
    "outputId": "c60c3451-1062-4570-c420-1504a5eccd58"
   },
   "outputs": [
    {
     "name": "stdout",
     "output_type": "stream",
     "text": [
      "accuracy:  0.9750386569472057\n"
     ]
    }
   ],
   "source": [
    "(train_x, train_y, test_x, test_y) = StarClassification.load().prepare()\n",
    "\n",
    "from sklearn.ensemble import RandomForestClassifier\n",
    "random_forest = RandomForestClassifier(n_estimators=20, criterion=\"gini\", max_depth=7)\n",
    "random_forest.fit(train_x, train_y)\n",
    "print(\"accuracy: \", np.mean(test_y == random_forest.predict(test_x)))"
   ]
  },
  {
   "cell_type": "code",
   "execution_count": null,
   "metadata": {
    "id": "gq4Pu61qcn80"
   },
   "outputs": [],
   "source": [
    "#GridSearch\n",
    "\n",
    "param_grid = { \n",
    "    'max_depth' : [4,5,6,7],\n",
    "    'criterion' :['gini', 'entropy']\n",
    "}\n",
    "\n",
    "grid = GridSearchCV(estimator=RandomForestClassifier(), param_grid=param_grid, cv=5)\n",
    "grid.fit(train_x, train_y)\n",
    "\n",
    "grid.best_params_"
   ]
  }
 ],
 "metadata": {
  "colab": {
   "provenance": []
  },
  "kernelspec": {
   "display_name": "Python 3 (ipykernel)",
   "language": "python",
   "name": "python3"
  },
  "language_info": {
   "codemirror_mode": {
    "name": "ipython",
    "version": 3
   },
   "file_extension": ".py",
   "mimetype": "text/x-python",
   "name": "python",
   "nbconvert_exporter": "python",
   "pygments_lexer": "ipython3",
   "version": "3.9.13"
  }
 },
 "nbformat": 4,
 "nbformat_minor": 1
}
