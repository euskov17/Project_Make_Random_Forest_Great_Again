{
 "cells": [
  {
   "cell_type": "code",
   "execution_count": 1,
   "metadata": {},
   "outputs": [
    {
     "name": "stdout",
     "output_type": "stream",
     "text": [
      "Defaulting to user installation because normal site-packages is not writeable\n",
      "Requirement already satisfied: imblearn in c:\\users\\user\\appdata\\roaming\\python\\python39\\site-packages (0.0)\n",
      "Requirement already satisfied: imbalanced-learn in c:\\users\\user\\appdata\\roaming\\python\\python39\\site-packages (from imblearn) (0.10.0)\n",
      "Requirement already satisfied: joblib>=1.1.1 in c:\\users\\user\\appdata\\roaming\\python\\python39\\site-packages (from imbalanced-learn->imblearn) (1.2.0)\n",
      "Requirement already satisfied: threadpoolctl>=2.0.0 in c:\\programdata\\anaconda3\\lib\\site-packages (from imbalanced-learn->imblearn) (2.2.0)\n",
      "Requirement already satisfied: numpy>=1.17.3 in c:\\users\\user\\appdata\\roaming\\python\\python39\\site-packages (from imbalanced-learn->imblearn) (1.21.4)\n",
      "Requirement already satisfied: scipy>=1.3.2 in c:\\programdata\\anaconda3\\lib\\site-packages (from imbalanced-learn->imblearn) (1.9.1)\n",
      "Requirement already satisfied: scikit-learn>=1.0.2 in c:\\programdata\\anaconda3\\lib\\site-packages (from imbalanced-learn->imblearn) (1.0.2)\n"
     ]
    }
   ],
   "source": [
    "! pip install imblearn"
   ]
  },
  {
   "cell_type": "code",
   "execution_count": 2,
   "metadata": {
    "executionInfo": {
     "elapsed": 5,
     "status": "ok",
     "timestamp": 1669830586456,
     "user": {
      "displayName": "Иван Назаров",
      "userId": "05331567444237134885"
     },
     "user_tz": -180
    },
    "id": "TRB_dbrfdDk6"
   },
   "outputs": [],
   "source": [
    "import numpy as np\n",
    "import pandas as pd\n",
    "import csv\n",
    "import matplotlib.pyplot as plt\n",
    "import seaborn as sns\n",
    "from typing import Tuple"
   ]
  },
  {
   "cell_type": "code",
   "execution_count": 6,
   "metadata": {
    "executionInfo": {
     "elapsed": 258,
     "status": "ok",
     "timestamp": 1669830716445,
     "user": {
      "displayName": "Иван Назаров",
      "userId": "05331567444237134885"
     },
     "user_tz": -180
    },
    "id": "hBUavB-ChhbD"
   },
   "outputs": [],
   "source": [
    "from IPython.testing import test\n",
    "from sklearn.neighbors import LocalOutlierFactor\n",
    "from sklearn.model_selection import train_test_split, StratifiedKFold, GridSearchCV\n",
    "from imblearn.over_sampling import SMOTE\n",
    "from sklearn.impute import SimpleImputer\n",
    "from sklearn.preprocessing import LabelEncoder\n",
    "\n",
    "class DatasetName:\n",
    "    data: pd.DataFrame\n",
    "\n",
    "    # do not call without fabric method\n",
    "    def __init__(self, data: pd.DataFrame):\n",
    "        self.data = data\n",
    "\n",
    "    @classmethod\n",
    "    def load(cls) :\n",
    "        \"\"\"\n",
    "        loads datasets with given name\n",
    "        :return: (train_dataframe, test_dataframe)\n",
    "        \"\"\"\n",
    "        data = pd.read_csv(\"data/spaceship_titanic_train.csv\")\n",
    "        return DatasetName(data)\n",
    "\n",
    "    def prepare(self) -> Tuple[np.ndarray, np.ndarray, np.ndarray, np.ndarray]:\n",
    "        \"\"\"\n",
    "        does preprocessing with dataset, feature generation, etc.\n",
    "        :return: (train_x, train_y, test_x, test_y)\n",
    "        \"\"\"\n",
    "\n",
    "        data = self.data\n",
    "        data[\"HomePlanet\"].fillna('Unknown', inplace=True)\n",
    "        \n",
    "        y = data[\"Transported\"]\n",
    "        X = data.drop([\"Transported\", \"Name\"], axis=1)\n",
    "        \n",
    "        X_train, X_test, y_train, y_test = train_test_split(X, y, test_size=.3,random_state=1729,\n",
    "                                                            stratify=y)\n",
    "\n",
    "        # filling the null values with median \n",
    "        imputer_cols = [\"Age\", \"FoodCourt\", \"ShoppingMall\", \"Spa\", \"VRDeck\" ,\"RoomService\"]\n",
    "        imputer = SimpleImputer(strategy=\"median\")\n",
    "        imputer.fit(X_train[imputer_cols])\n",
    "        X_train[imputer_cols] = imputer.transform(X_train[imputer_cols])\n",
    "        X_test[imputer_cols] = imputer.transform(X_test[imputer_cols])\n",
    "\n",
    "\n",
    "        # label encoding \n",
    "        label_cols = [\"HomePlanet\", \"CryoSleep\",\"Cabin\", \"Destination\" ,\"VIP\"]\n",
    "        def label_encoder(train,test,columns):\n",
    "            for col in columns:\n",
    "                train[col] = train[col].astype(str)\n",
    "                test[col] = test[col].astype(str)\n",
    "                train[col] = LabelEncoder().fit_transform(train[col])\n",
    "                test[col] =  LabelEncoder().fit_transform(test[col])\n",
    "            return train, test\n",
    "\n",
    "        X_train, X_test = label_encoder(X_train, X_test, label_cols)\n",
    "\n",
    "        X_train[\"PassengerId\"] = LabelEncoder().fit_transform(X_train[\"PassengerId\"])\n",
    "        X_test[\"PassengerId\"]= LabelEncoder().fit_transform(X_test[\"PassengerId\"])\n",
    "\n",
    "        return X_train, y_train, X_test, y_test"
   ]
  },
  {
   "cell_type": "code",
   "execution_count": 5,
   "metadata": {
    "executionInfo": {
     "elapsed": 8535,
     "status": "ok",
     "timestamp": 1669830727617,
     "user": {
      "displayName": "Иван Назаров",
      "userId": "05331567444237134885"
     },
     "user_tz": -180
    },
    "id": "kToagg9yqvz-"
   },
   "outputs": [],
   "source": [
    "(train_x, train_y, test_x, test_y) = DatasetName.load().prepare()"
   ]
  },
  {
   "cell_type": "code",
   "execution_count": 19,
   "metadata": {},
   "outputs": [
    {
     "name": "stdout",
     "output_type": "stream",
     "text": [
      "4871    False\n",
      "2621    False\n",
      "5545     True\n",
      "2619     True\n",
      "4378    False\n",
      "        ...  \n",
      "270      True\n",
      "557      True\n",
      "2113     True\n",
      "7452    False\n",
      "4506    False\n",
      "Name: Transported, Length: 1739, dtype: bool\n"
     ]
    }
   ],
   "source": [
    "print(test_y)"
   ]
  },
  {
   "cell_type": "code",
   "execution_count": 8,
   "metadata": {},
   "outputs": [],
   "source": [
    "from sklearn.ensemble import RandomForestClassifier\n",
    "random_forest = RandomForestClassifier(n_estimators=10, criterion=\"gini\", max_depth=7)\n",
    "random_forest.fit(train_x, train_y)\n",
    "y_pred = random_forest.predict(test_x)"
   ]
  },
  {
   "cell_type": "code",
   "execution_count": 9,
   "metadata": {
    "executionInfo": {
     "elapsed": 270,
     "status": "ok",
     "timestamp": 1669830730578,
     "user": {
      "displayName": "Иван Назаров",
      "userId": "05331567444237134885"
     },
     "user_tz": -180
    },
    "id": "zVpVU80Sq3Uq"
   },
   "outputs": [],
   "source": [
    "# для проверки точности необходимо отправить файл submission.csv в систему kaggle:\n",
    "# https://www.kaggle.com/competitions/spaceship-titanic/data\n",
    "\n",
    "X_test_id =  pd.read_csv(\"spaceship_titanic/sample_submission.csv\")\n",
    "\n",
    "submission = pd.DataFrame(\n",
    "    {'PassengerId':X_test_id[\"PassengerId\"] ,\n",
    "     'Transported': y_pred},columns=['PassengerId', 'Transported'])\n",
    "\n",
    "submission.to_csv(\"submission.csv\",index=False)"
   ]
  }
 ],
 "metadata": {
  "colab": {
   "authorship_tag": "ABX9TyN3wj4hbDYMwyZ5goD7qTZs",
   "provenance": []
  },
  "kernelspec": {
   "display_name": "Python 3 (ipykernel)",
   "language": "python",
   "name": "python3"
  },
  "language_info": {
   "codemirror_mode": {
    "name": "ipython",
    "version": 3
   },
   "file_extension": ".py",
   "mimetype": "text/x-python",
   "name": "python",
   "nbconvert_exporter": "python",
   "pygments_lexer": "ipython3",
   "version": "3.9.13"
  }
 },
 "nbformat": 4,
 "nbformat_minor": 1
}
