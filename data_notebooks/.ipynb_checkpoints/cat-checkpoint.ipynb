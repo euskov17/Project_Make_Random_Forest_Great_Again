{
 "cells": [
  {
   "cell_type": "code",
   "execution_count": 1,
   "metadata": {},
   "outputs": [],
   "source": [
    "import numpy as np\n",
    "import pandas as pd\n",
    "import seaborn as sn\n",
    "from typing import Tuple\n",
    "import time\n",
    "\n",
    "from sklearn.model_selection import train_test_split, GridSearchCV, StratifiedKFold\n",
    "from sklearn.preprocessing import LabelEncoder\n",
    "from sklearn.ensemble import RandomForestClassifier\n",
    "from sklearn.metrics import accuracy_score, f1_score, confusion_matrix\n",
    "from feature_engine.selection import (\n",
    "    DropDuplicateFeatures,\n",
    "    DropConstantFeatures,\n",
    ")"
   ]
  },
  {
   "cell_type": "markdown",
   "metadata": {},
   "source": [
    "Примерно так будет выглядеть каждый из ваших датасетов для пользователя. Датасеты будет удобно объединять в классы для удобного использования"
   ]
  },
  {
   "cell_type": "code",
   "execution_count": 4,
   "metadata": {},
   "outputs": [],
   "source": [
    "class DatasetName:\n",
    "    train_data: pd.DataFrame\n",
    "    test_data: pd.DataFrame\n",
    "    \n",
    "    # do not call without fabric method\n",
    "    def __init__(self, train_data: pd.DataFrame, test_data: pd.DataFrame):\n",
    "        self.train_data = train_data\n",
    "        self.test_data = test_data\n",
    "\n",
    "    @classmethod\n",
    "    def load(cls) :\n",
    "        \"\"\"\n",
    "        loads datasets with given name\n",
    "        :return: (train_dataframe, test_dataframe)\n",
    "        \"\"\"\n",
    "        train = pd.read_csv(\"data/cat_train.csv\")\n",
    "        return DatasetName(train, None)\n",
    "\n",
    "    def prepare(self) -> Tuple[np.ndarray, np.ndarray, np.ndarray, np.ndarray]:\n",
    "        \"\"\"\n",
    "        does preprocessing with dataset, feature generation, etc.\n",
    "        :return: (train_x, train_y, test_x, test_y)\n",
    "        \"\"\"\n",
    "        TARGET = 'target'\n",
    "        y = self.train_data[TARGET]\n",
    "        self.train_data.drop(labels=TARGET, axis=1, inplace=True)\n",
    "        \n",
    "        x_train, x_test, y_train, y_test = train_test_split(self.train_data, y, test_size=0.3,random_state=1729,\n",
    "                                                            stratify=y)\n",
    "        \n",
    "        nom_cols = [col  for col in x_train.columns.values if col.startswith('nom')]\n",
    "        \n",
    "        def ord_to_num(df, col):\n",
    "            if not isinstance(col, list):\n",
    "                col = [col]\n",
    "            for c in col:\n",
    "                keys=np.sort(df[c].unique())\n",
    "                values=np.arange(len(keys))\n",
    "                map = dict(zip(keys, values))\n",
    "                df[c] = df[c].replace(map)\n",
    "        \n",
    "        ord_to_num(x_test, ['ord_3', 'ord_4', 'ord_5'])\n",
    "        ord_to_num(x_train, ['ord_3', 'ord_4', 'ord_5'])\n",
    "        \n",
    "        keys_ord_1 = x_train.ord_1.unique()\n",
    "        values_ord_1 = [3,4,0,1,2]\n",
    "        map_ord_1 = dict(zip(keys_ord_1, values_ord_1))\n",
    "        \n",
    "        x_train['ord_1'] = x_train['ord_1'].replace(map_ord_1)\n",
    "        x_test['ord_1'] = x_test['ord_1'].replace(map_ord_1)\n",
    "        \n",
    "        keys_ord_2 = x_train.ord_2.unique()\n",
    "        values_ord_2 = [1,3,5,4,0,2]\n",
    "        map_ord_2 = dict(zip(keys_ord_2, values_ord_2))\n",
    "        \n",
    "        x_train['ord_2'] = x_train['ord_2'].replace(map_ord_2)\n",
    "        x_test['ord_2'] = x_test['ord_2'].replace(map_ord_2)\n",
    "        \n",
    "        \n",
    "        x_train['ord_4_band'] = pd.qcut(x_train['ord_4'], 6)\n",
    "        bands = x_train.ord_4_band.unique()\n",
    "        keys_bands = np.sort(bands)\n",
    "        values_bands = np.arange(len(keys_bands))\n",
    "        map_bands = dict(zip(keys_bands, values_bands))\n",
    "        \n",
    "        x_train['ord_4_band'] = x_train['ord_4_band'].replace(map_bands)\n",
    "        x_test['ord_4_band'] = pd.cut(x_test.ord_4, pd.IntervalIndex(keys_bands))\n",
    "        x_test['ord_4_band'] = x_test['ord_4_band'].replace(map_bands)\n",
    "        \n",
    "        x_train['ord_5_band'] = pd.qcut(x_train['ord_5'], 6)\n",
    "        bands = x_train.ord_5_band.unique()\n",
    "        keys_bands = np.sort(bands)\n",
    "        values_bands = np.arange(len(keys_bands))\n",
    "        map_bands = dict(zip(keys_bands, values_bands))\n",
    "        \n",
    "        x_train['ord_5_band'] = x_train['ord_5_band'].replace(map_bands)\n",
    "        x_test['ord_5_band'] = pd.cut(x_test.ord_5,pd.IntervalIndex(keys_bands))\n",
    "        x_test['ord_5_band'] = x_test['ord_5_band'].replace(map_bands)\n",
    "        \n",
    "        labelEnc = LabelEncoder()\n",
    "        \n",
    "        for col in nom_cols:\n",
    "            x_train[col] = labelEnc.fit_transform(x_train[col])\n",
    "            x_test[col] = labelEnc.fit_transform(x_test[col])\n",
    "            \n",
    "        for col in ['bin_3', 'bin_4']:\n",
    "            x_train[col]=labelEnc.fit_transform(x_train[col])\n",
    "            x_test[col]=labelEnc.fit_transform(x_test[col])\n",
    "\n",
    "        return x_train, y_train, x_test, y_test"
   ]
  },
  {
   "cell_type": "markdown",
   "metadata": {},
   "source": [
    "Вот пример того, как может выглядеть использование подобного интерфейса"
   ]
  },
  {
   "cell_type": "code",
   "execution_count": 3,
   "metadata": {},
   "outputs": [],
   "source": [
    "x_train, y_train, x_test, y_test = DatasetName.load().prepare()"
   ]
  }
 ],
 "metadata": {
  "kernelspec": {
   "display_name": "Python 3 (ipykernel)",
   "language": "python",
   "name": "python3"
  },
  "language_info": {
   "codemirror_mode": {
    "name": "ipython",
    "version": 3
   },
   "file_extension": ".py",
   "mimetype": "text/x-python",
   "name": "python",
   "nbconvert_exporter": "python",
   "pygments_lexer": "ipython3",
   "version": "3.9.13"
  }
 },
 "nbformat": 4,
 "nbformat_minor": 1
}
