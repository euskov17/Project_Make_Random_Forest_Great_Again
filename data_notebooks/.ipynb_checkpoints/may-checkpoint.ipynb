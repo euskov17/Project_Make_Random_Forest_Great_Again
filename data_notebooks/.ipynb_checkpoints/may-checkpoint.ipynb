{
 "cells": [
  {
   "cell_type": "code",
   "execution_count": 1,
   "metadata": {
    "id": "ydNnJWK4DIat"
   },
   "outputs": [],
   "source": [
    "import numpy as np\n",
    "import pandas as pd\n",
    "import seaborn as sn\n",
    "import time\n",
    "\n",
    "from typing import Tuple\n",
    "\n",
    "from sklearn.model_selection import train_test_split, GridSearchCV, StratifiedKFold\n",
    "from sklearn.preprocessing import LabelEncoder\n",
    "from sklearn.ensemble import RandomForestClassifier\n",
    "from sklearn.metrics import accuracy_score, f1_score, confusion_matrix\n",
    "from feature_engine.selection import (\n",
    "    DropDuplicateFeatures,\n",
    "    DropConstantFeatures,\n",
    ")"
   ]
  },
  {
   "cell_type": "markdown",
   "metadata": {
    "id": "a9JFMQtWDIaw"
   },
   "source": [
    "Примерно так будет выглядеть каждый из ваших датасетов для пользователя. Датасеты будет удобно объединять в классы для удобного использования"
   ]
  },
  {
   "cell_type": "code",
   "execution_count": 4,
   "metadata": {
    "id": "I6Ua7nd8DIay"
   },
   "outputs": [],
   "source": [
    "class DatasetName:\n",
    "    train_data: pd.DataFrame\n",
    "    test_data: pd.DataFrame\n",
    "    \n",
    "    # do not call without fabric method\n",
    "    def __init__(self, train_data: pd.DataFrame, test_data: pd.DataFrame):\n",
    "        self.train_data = train_data\n",
    "        self.test_data = test_data\n",
    "\n",
    "    @classmethod\n",
    "    def load(cls) :\n",
    "        \"\"\"\n",
    "        loads datasets with given name\n",
    "        :return: (train_dataframe, test_dataframe)\n",
    "        \"\"\"\n",
    "        train = pd.read_csv(\"data/may_train.csv\")\n",
    "        return DatasetName(train, None)\n",
    "\n",
    "    def prepare(self) -> Tuple[np.ndarray, np.ndarray, np.ndarray, np.ndarray]:\n",
    "        \"\"\"\n",
    "        does preprocessing with dataset, feature generation, etc.\n",
    "        :return: (train_x, train_y, test_x, test_y)\n",
    "        \"\"\"\n",
    "        TARGET = 'target'\n",
    "        y = self.train_data[TARGET]\n",
    "        nons = y.isna()\n",
    "        y = y[~nons]\n",
    "        self.train_data = self.train_data[~nons]\n",
    "        self.train_data.drop(labels=TARGET, axis=1, inplace=True)\n",
    "        \n",
    "        x_train, x_test, y_train, y_test = train_test_split(self.train_data, y, test_size=0.3, \n",
    "                                                            random_state=1729,\n",
    "                                                            stratify=y)\n",
    "        \n",
    "        continuous_feat = ['f_00', 'f_01', 'f_02', 'f_03', 'f_04', 'f_05', 'f_06', 'f_19', 'f_20', 'f_21', 'f_22', 'f_23', 'f_24', 'f_25', 'f_26', 'f_28']\n",
    "        \n",
    "        def stat_features(df, cols = continuous_feat):\n",
    "            '''\n",
    "            Calculate aggregated features across the selected continuous columns\n",
    "\n",
    "            '''\n",
    "            df['f_sum']  = df[continuous_feat].sum(axis=1)\n",
    "            df['f_min']  = df[continuous_feat].min(axis=1)\n",
    "            df['f_max']  = df[continuous_feat].max(axis=1)\n",
    "            df['f_std']  = df[continuous_feat].std(axis=1)    \n",
    "            df['f_mad']  = df[continuous_feat].mad(axis=1)\n",
    "            df['f_mean'] = df[continuous_feat].mean(axis=1)\n",
    "            df['f_kurt'] = df[continuous_feat].kurt(axis=1)\n",
    "\n",
    "            df['f_prod'] = df[continuous_feat].prod(axis=1)\n",
    "            df['f_range'] = df[continuous_feat].max(axis=1) - df[continuous_feat].min(axis=1)\n",
    "            df['f_count_pos']  = df[df[continuous_feat].gt(0)].count(axis=1)\n",
    "            df['f_count_neg']  = df[df[continuous_feat].lt(0)].count(axis=1)\n",
    "\n",
    "            return df\n",
    "        \n",
    "        x_train = stat_features(x_train, continuous_feat)\n",
    "        x_test = stat_features(x_test, continuous_feat)\n",
    "        \n",
    "        \n",
    "        \n",
    "        encoder = LabelEncoder()\n",
    "        \n",
    "        def encode_features(df, cols = ['f_27']):\n",
    "            '''\n",
    "            Apply one-hot encode to the selected columns, return a df\n",
    "            '''\n",
    "            for col in cols:\n",
    "                df[col + '_enc'] = encoder.fit_transform(df[col])\n",
    "            return df\n",
    "\n",
    "        x_train = encode_features(x_train)\n",
    "        x_test = encode_features(x_test)\n",
    "        \n",
    "        \n",
    "        \n",
    "        def calculate_feat_int(df):\n",
    "            df['i_02_21'] = (df.f_21 + df.f_02 > 5.2).astype(int) - (df.f_21 + df.f_02 < -5.3).astype(int)\n",
    "            df['i_05_22'] = (df.f_22 + df.f_05 > 5.1).astype(int) - (df.f_22 + df.f_05 < -5.4).astype(int)\n",
    "            i_00_01_26 = df.f_00 + df.f_01 + df.f_26\n",
    "            df['i_00_01_26'] = (i_00_01_26 > 5.0).astype(int) - (i_00_01_26 < -5.0).astype(int)\n",
    "            return df\n",
    "\n",
    "        x_train = calculate_feat_int(x_train)\n",
    "        x_test = calculate_feat_int(x_test)\n",
    "        \n",
    "        x_train.drop(labels=['id','f_25', 'f_26', \"f_27\", \"f_28\", \"f_29\", \"f_30\",\n",
    "                      'f_27_enc'],axis=1, inplace=True)\n",
    "        \n",
    "        x_test.drop(labels=['id','f_25', 'f_26', \"f_27\", \"f_28\", \"f_29\", \"f_30\", \n",
    "                      'f_27_enc'],axis=1, inplace=True)\n",
    "        return x_train, y_train, x_test, y_test"
   ]
  },
  {
   "cell_type": "markdown",
   "metadata": {
    "id": "K24blnF2DIa2"
   },
   "source": [
    "Вот пример того, как может выглядеть использование подобного интерфейса"
   ]
  },
  {
   "cell_type": "code",
   "execution_count": 3,
   "metadata": {
    "id": "b31AoZgBDIa3"
   },
   "outputs": [],
   "source": [
    "x_train, y_train, x_test, y_test = DatasetName.load().prepare()"
   ]
  }
 ],
 "metadata": {
  "colab": {
   "provenance": []
  },
  "kernelspec": {
   "display_name": "Python 3 (ipykernel)",
   "language": "python",
   "name": "python3"
  },
  "language_info": {
   "codemirror_mode": {
    "name": "ipython",
    "version": 3
   },
   "file_extension": ".py",
   "mimetype": "text/x-python",
   "name": "python",
   "nbconvert_exporter": "python",
   "pygments_lexer": "ipython3",
   "version": "3.9.13"
  }
 },
 "nbformat": 4,
 "nbformat_minor": 1
}
