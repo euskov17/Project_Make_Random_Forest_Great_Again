{
 "cells": [
  {
   "cell_type": "code",
   "execution_count": null,
   "metadata": {
    "id": "J1EZ7ENpXMo9"
   },
   "outputs": [],
   "source": [
    "import numpy as np\n",
    "import pandas as pd\n",
    "import csv\n",
    "import matplotlib.pyplot as plt\n",
    "import seaborn as sns\n",
    "from typing import Tuple\n",
    "from sklearn.preprocessing import LabelEncoder, MinMaxScaler\n",
    "from sklearn.model_selection import train_test_split\n",
    "from sklearn.neighbors import LocalOutlierFactor\n",
    "from sklearn.model_selection import train_test_split,StratifiedKFold,GridSearchCV\n",
    "from imblearn.over_sampling import SMOTE\n",
    "from sklearn.metrics import classification_report\n"
   ]
  },
  {
   "cell_type": "code",
   "execution_count": null,
   "metadata": {
    "id": "zvff6cZquwY8"
   },
   "outputs": [],
   "source": [
    "class DatasetName:\n",
    "    train_data: pd.DataFrame\n",
    "    test_data: pd.DataFrame\n",
    "\n",
    "    # do not call without fabric method\n",
    "    def __init__(self, train_data: pd.DataFrame, test_data: pd.DataFrame):\n",
    "        self.train_data = train_data\n",
    "        self.test_data = test_data\n",
    "\n",
    "    @classmethod\n",
    "    def load(cls):\n",
    "        \"\"\"\n",
    "        loads datasets with given name\n",
    "        :return: (train_dataframe, test_dataframe)\n",
    "        \"\"\"\n",
    "        df = pd.read_csv('data/heart_disease_train.csv')\n",
    "        return DatasetName(df, None)\n",
    "\n",
    "    def prepare(self) -> Tuple[np.ndarray, np.ndarray, np.ndarray, np.ndarray]:\n",
    "        \"\"\"\n",
    "        does preprocessing with dataset, feature generation, etc.\n",
    "        :return: (train_x, train_y, test_x, test_y)\n",
    "        \"\"\"\n",
    "        df = self.train_data\n",
    "        df.dropna()\n",
    "\n",
    "        for feature in ['BMI', 'MentHlth', 'PhysHlth']: \n",
    "            df[feature] = df[feature].astype('int64')\n",
    "            df[feature] = MinMaxScaler(feature_range=(0, 1)).fit_transform(df[[feature]])\n",
    "\n",
    "        # Split column to Feature(X) and Target(Y)\n",
    "        X = df.drop(columns='HeartDiseaseorAttack')\n",
    "        Y = df['HeartDiseaseorAttack']\n",
    "\n",
    "        train_x, test_x, train_y, test_y = train_test_split(X, Y, test_size=0.3, stratify=Y, random_state=42)\n",
    "\n",
    "        return train_x, train_y, test_x, test_y"
   ]
  },
  {
   "cell_type": "code",
   "execution_count": null,
   "metadata": {
    "colab": {
     "base_uri": "https://localhost:8080/",
     "height": 452
    },
    "executionInfo": {
     "elapsed": 17304,
     "status": "ok",
     "timestamp": 1669818783670,
     "user": {
      "displayName": "Иван Назаров",
      "userId": "05331567444237134885"
     },
     "user_tz": -180
    },
    "id": "p9GSf058vfVV",
    "outputId": "5d8dcb8c-94d0-41a8-d9be-615b077cd43c"
   },
   "outputs": [],
   "source": [
    "(train_x, train_y, test_x, test_y) = DatasetName.load().prepare()\n",
    "\n",
    "\n",
    "from sklearn.ensemble import RandomForestClassifier\n",
    "random_forest = RandomForestClassifier(n_estimators=100)\n",
    "random_forest.fit(train_x, train_y)\n",
    "\n",
    "pred_y = random_forest.predict(test_x)\n",
    "\n",
    "from sklearn.metrics import confusion_matrix\n",
    "test_con_mat = confusion_matrix(test_y, pred_y)\n",
    "\n",
    "import seaborn as sns\n",
    "import matplotlib.pyplot as plt     \n",
    "\n",
    "ax= plt.subplot()\n",
    "sns.heatmap(test_con_mat, annot=True, fmt='g', ax=ax);  #annot=True to annotate cells, ftm='g' to disable scientific notation\n",
    "\n",
    "# labels, title and ticks\n",
    "ax.set_xlabel('Predicted labels');ax.set_ylabel('True labels'); \n",
    "ax.set_title('Confusion Matrix'); \n",
    "ax.xaxis.set_ticklabels(['no_risk', 'risk']); ax.yaxis.set_ticklabels(['no risk', 'risk']);\n",
    "\n",
    "\n",
    "print(classification_report(test_y, pred_y))\n"
   ]
  }
 ],
 "metadata": {
  "colab": {
   "authorship_tag": "ABX9TyPeXcHJrLZAyLXQ8cn9eA9L",
   "provenance": []
  },
  "kernelspec": {
   "display_name": "Python 3 (ipykernel)",
   "language": "python",
   "name": "python3"
  },
  "language_info": {
   "codemirror_mode": {
    "name": "ipython",
    "version": 3
   },
   "file_extension": ".py",
   "mimetype": "text/x-python",
   "name": "python",
   "nbconvert_exporter": "python",
   "pygments_lexer": "ipython3",
   "version": "3.9.13"
  }
 },
 "nbformat": 4,
 "nbformat_minor": 1
}
