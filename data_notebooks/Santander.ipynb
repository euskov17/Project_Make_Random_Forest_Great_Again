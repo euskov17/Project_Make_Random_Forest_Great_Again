{
 "cells": [
  {
   "cell_type": "code",
   "execution_count": 5,
   "metadata": {},
   "outputs": [],
   "source": [
    "import numpy as np\n",
    "import pandas as pd\n",
    "import seaborn as sn\n",
    "from typing import Tuple\n",
    "import time\n",
    "\n",
    "from sklearn.model_selection import train_test_split, GridSearchCV, StratifiedKFold\n",
    "from sklearn.ensemble import RandomForestClassifier\n",
    "from sklearn.metrics import accuracy_score, f1_score, confusion_matrix\n",
    "from feature_engine.selection import (\n",
    "    DropDuplicateFeatures,\n",
    "    DropConstantFeatures,\n",
    ")"
   ]
  },
  {
   "cell_type": "markdown",
   "metadata": {},
   "source": [
    "Примерно так будет выглядеть каждый из ваших датасетов для пользователя. Датасеты будет удобно объединять в классы для удобного использования"
   ]
  },
  {
   "cell_type": "code",
   "execution_count": 4,
   "metadata": {},
   "outputs": [],
   "source": [
    "class DatasetName:\n",
    "    train_data: pd.DataFrame\n",
    "    test_data: pd.DataFrame\n",
    "    \n",
    "    def __init__(self, train_data: pd.DataFrame, test_data: pd.DataFrame):\n",
    "        self.train_data = train_data\n",
    "        self.test_data = test_data\n",
    "\n",
    "    @classmethod\n",
    "    def load(cls) :\n",
    "        \"\"\"\n",
    "        loads datasets with given name\n",
    "        :return: (train_dataframe, test_dataframe)\n",
    "        \"\"\"\n",
    "        train = pd.read_csv(\"data/Santander_train.csv\")\n",
    "        return DatasetName(train, None)\n",
    "\n",
    "    def prepare(self) -> Tuple[np.ndarray, np.ndarray, np.ndarray, np.ndarray]:\n",
    "        \"\"\"\n",
    "        does preprocessing with dataset, feature generation, etc.\n",
    "        :return: (train_x, train_y, test_x, test_y)\n",
    "        \"\"\"\n",
    "        TARGET = 'TARGET'\n",
    "        y = self.train_data[TARGET]\n",
    "        self.train_data.drop(labels=[TARGET, 'ID'], axis=1, inplace=True)\n",
    "        \n",
    "        x_train, x_test, y_train, y_test = train_test_split(self.train_data, y, test_size=0.3, random_state=1729, stratify=y)\n",
    "        \n",
    "        constant = DropConstantFeatures(tol=1)\n",
    "        constant.fit(x_train)\n",
    "        \n",
    "        x_train = constant.transform(x_train)\n",
    "        x_test = constant.transform(x_test)\n",
    "        \n",
    "        duplicates = DropDuplicateFeatures()\n",
    "        duplicates.fit(x_train)\n",
    "        \n",
    "        x_train = duplicates.transform(x_train)\n",
    "        x_test = duplicates.transform(x_test)\n",
    "        \n",
    "        return x_train, y_train, x_test, y_test"
   ]
  },
  {
   "cell_type": "markdown",
   "metadata": {},
   "source": [
    "Вот пример того, как может выглядеть использование подобного интерфейса"
   ]
  },
  {
   "cell_type": "code",
   "execution_count": 3,
   "metadata": {},
   "outputs": [],
   "source": [
    "x_train, y_train, x_test, y_test = DatasetName.load().prepare()"
   ]
  }
 ],
 "metadata": {
  "kernelspec": {
   "display_name": "Python 3 (ipykernel)",
   "language": "python",
   "name": "python3"
  },
  "language_info": {
   "codemirror_mode": {
    "name": "ipython",
    "version": 3
   },
   "file_extension": ".py",
   "mimetype": "text/x-python",
   "name": "python",
   "nbconvert_exporter": "python",
   "pygments_lexer": "ipython3",
   "version": "3.9.13"
  }
 },
 "nbformat": 4,
 "nbformat_minor": 1
}
